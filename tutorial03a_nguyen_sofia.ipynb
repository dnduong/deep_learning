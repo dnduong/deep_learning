{
  "nbformat": 4,
  "nbformat_minor": 0,
  "metadata": {
    "kernelspec": {
      "display_name": "Python 3",
      "language": "python",
      "name": "python3"
    },
    "language_info": {
      "codemirror_mode": {
        "name": "ipython",
        "version": 3
      },
      "file_extension": ".py",
      "mimetype": "text/x-python",
      "name": "python",
      "nbconvert_exporter": "python",
      "pygments_lexer": "ipython3",
      "version": "3.7.9"
    },
    "toc": {
      "base_numbering": 1,
      "nav_menu": {},
      "number_sections": true,
      "sideBar": true,
      "skip_h1_title": true,
      "title_cell": "Table of Contents",
      "title_sidebar": "Contents",
      "toc_cell": false,
      "toc_position": {},
      "toc_section_display": true,
      "toc_window_display": true
    },
    "colab": {
      "name": "tutorial03a_nguyen_sofia.ipynb",
      "provenance": [],
      "collapsed_sections": []
    }
  },
  "cells": [
    {
      "cell_type": "markdown",
      "metadata": {
        "id": "PNDq8gpflloc"
      },
      "source": [
        "# Tutorial 3a. Homemade one-hidden layer perceptron for binary classification\n",
        "\n",
        "![](mlp.svg)\n",
        "\n",
        "## This is a homework: put your names here\n",
        "\n",
        "- `First student name`\n",
        "- `Second student name`\n",
        "\n",
        "## Description\n",
        "\n",
        "The goal of this tutorial is to build and train your first neural network *by hand* !\n",
        "\n",
        "- To keep things as simple as possible we consider a simple *perceptron* with *one hidden layer*\n",
        "- We consider a binary-classification problem which cannot be solved with a linear classifier\n",
        "- We use a toy dataset which is already created for you with the `load_data()` function\n",
        "\n",
        "The neural network will have to be **programmed and trained from scratch**, meaning that you will have to define its structure yourself, and that **you are not allowed** to use the built-in functionalities of `PyTorch` for autodifferentiation. You will have to program the forward and backward pass *yourself*, together with the gradient descent algorithm.\n",
        "\n",
        "**Read the following instructions carefully in order to succeed**\n",
        "\n",
        "- You are already provided with a simple python class which will constitute your neural network. \n",
        "\n",
        "- The constructor of this class (`__init__`) requires you to specify the following parameters (investigate the data carefully in order to know how these parameters need to be defined).\n",
        "    - Number of input nodes (number of features)\n",
        "    - Number of hidden units \n",
        "    - Number of output nodes\n",
        "\n",
        "- The constructor of the neural network also requires you to allocate the weight matrices and bias vectors which will be the main components of your computational graph. For this, you can use some of the tensor operations we have seen in `tutorial2a`, in order to initialize at random the weights, for instance.\n",
        "\n",
        "- Implementing a neural network consists in two main steps:\n",
        "    - Forward-pass: computing the output of the network based on its weight matrices and bias vectors. Since we consider binary classification, we should output activations that are activated by a sigmoid\n",
        "    - Backward-pass: computing how different the predictions of the network are from what should be predicted and update the parameters of the network with the backpropagation algorithm. You are already provided with a loss function in the code which requires only slight modifications.\n",
        "\n",
        "- If you want to challenge yourself you can extend the neural network as follows:\n",
        "    - add multiple hidden layers of different sizes\n",
        "    - explore different non-linear activation functions\n",
        "    - investigate whether the network starts overfitting"
      ]
    },
    {
      "cell_type": "code",
      "metadata": {
        "ExecuteTime": {
          "end_time": "2021-02-19T10:48:26.387197Z",
          "start_time": "2021-02-19T10:48:24.864492Z"
        },
        "id": "XDUEkjq3llop"
      },
      "source": [
        "import numpy as np\n",
        "import torch\n",
        "import sklearn\n",
        "from sklearn.datasets import make_gaussian_quantiles\n",
        "from sklearn.model_selection import train_test_split\n",
        "from matplotlib.colors import ListedColormap\n",
        "import matplotlib.pyplot as plt"
      ],
      "execution_count": null,
      "outputs": []
    },
    {
      "cell_type": "markdown",
      "metadata": {
        "id": "g2aF76X_llos"
      },
      "source": [
        "## Simulation of the data"
      ]
    },
    {
      "cell_type": "code",
      "metadata": {
        "ExecuteTime": {
          "end_time": "2021-02-19T10:48:26.392694Z",
          "start_time": "2021-02-19T10:48:26.389535Z"
        },
        "id": "Ae0GU715llot"
      },
      "source": [
        "def load_data(n_samples=500):\n",
        "    return make_gaussian_quantiles(\n",
        "        mean=None,\n",
        "        cov=0.7,\n",
        "        n_samples=n_samples,\n",
        "        n_features=2,\n",
        "        n_classes=2,\n",
        "        shuffle=True,\n",
        "        random_state=42,\n",
        "    )"
      ],
      "execution_count": null,
      "outputs": []
    },
    {
      "cell_type": "code",
      "metadata": {
        "ExecuteTime": {
          "end_time": "2021-02-19T10:48:26.402639Z",
          "start_time": "2021-02-19T10:48:26.395408Z"
        },
        "colab": {
          "base_uri": "https://localhost:8080/"
        },
        "id": "Q8266Phillot",
        "outputId": "1cdd82fd-190f-43b8-fbd2-55cc8eebab32"
      },
      "source": [
        "gaussian_quantiles = load_data()\n",
        "X, y = gaussian_quantiles\n",
        "\n",
        "print(X[:10, :])\n",
        "print(y[:10])\n",
        "\n",
        "X_train, X_test, y_train, y_test = train_test_split(X, y, test_size=0.20, random_state=42)"
      ],
      "execution_count": null,
      "outputs": [
        {
          "output_type": "stream",
          "text": [
            "[[-1.13773727  0.62436053]\n",
            " [-0.75970745 -1.18161805]\n",
            " [-0.82471758  0.42171557]\n",
            " [-0.09398039 -0.18487643]\n",
            " [-0.80731289  0.57399183]\n",
            " [ 0.67980788  1.13471182]\n",
            " [-1.70521733 -0.84342552]\n",
            " [ 1.57461467  1.12565917]\n",
            " [-0.22579357 -0.81889248]\n",
            " [ 0.97317262  0.00856159]]\n",
            "[1 1 0 0 1 1 1 1 0 1]\n"
          ],
          "name": "stdout"
        }
      ]
    },
    {
      "cell_type": "code",
      "metadata": {
        "ExecuteTime": {
          "end_time": "2021-02-19T10:48:27.301994Z",
          "start_time": "2021-02-19T10:48:27.131908Z"
        },
        "colab": {
          "base_uri": "https://localhost:8080/",
          "height": 441
        },
        "id": "KM_bOvy9llou",
        "outputId": "3c19e18e-9f60-4447-e813-4c964f33647f"
      },
      "source": [
        "cm = plt.cm.RdBu\n",
        "cm_bright = ListedColormap(['#FF0000', '#0000FF'])\n",
        "\n",
        "def plot_data(X, y, xy_labels=True, label=None, **kwargs):\n",
        "    X_1 = X[y == 1]\n",
        "    X_0 = X[y == 0]\n",
        "    if label is not None:\n",
        "        plt.scatter(X_1[:, 0], X_1[:, 1], c=\"blue\", s=30, label=label + \" (yi=1)\", **kwargs)\n",
        "        plt.scatter(X_0[:, 0], X_0[:, 1], c=\"red\", s=30, label=label + \" (yi=0)\", **kwargs)\n",
        "    plt.xticks(())\n",
        "    plt.yticks(())\n",
        "    plt.xlim(X[:, 0].min() - 1, X[:, 0].max() + 1)\n",
        "    plt.ylim(X[:, 1].min() - 1, X[:, 1].max() + 1)\n",
        "\n",
        "plt.figure(figsize=(6, 6))\n",
        "plot_data(X_train, y_train, alpha=0.7, label=\"Train\")\n",
        "plot_data(X_test, y_test, alpha=0.3, label=\"Valid\")\n",
        "plt.legend(fontsize=13)\n",
        "plt.tight_layout()"
      ],
      "execution_count": null,
      "outputs": [
        {
          "output_type": "display_data",
          "data": {
            "image/png": "[encoded data removed]",
            "text/plain": [
              "<Figure size 432x432 with 1 Axes>"
            ]
          },
          "metadata": {
            "tags": []
          }
        }
      ]
    },
    {
      "cell_type": "markdown",
      "metadata": {
        "id": "bdmNPMk7llow"
      },
      "source": [
        "## A neural network class\n",
        "\n",
        "**QUESTION.** Implement the `forward` and `backward` methods in the following class, and fill the `__init__` and `train` methods, in order to train the one-hidden layer perceptron for binary classification. "
      ]
    },
    {
      "cell_type": "code",
      "metadata": {
        "ExecuteTime": {
          "end_time": "2021-02-19T09:25:41.859392Z",
          "start_time": "2021-02-19T09:25:41.854134Z"
        },
        "id": "kpLMqtRblloz"
      },
      "source": [
        "class NeuralNetwork:\n",
        "    def __init__(self, n_in, n_hidden, n_out):\n",
        "        # number of input nodes\n",
        "        self.n_x = n_in\n",
        "        # number of hidden nodes\n",
        "        self.n_h = n_hidden\n",
        "        # number of output nodes\n",
        "        self.n_y = n_out\n",
        "        # Define 1st weight matrix (using random initialization)\n",
        "        self.W1 = torch.rand(self.n_x,self.n_h)\n",
        "        # define 1st bias vector\n",
        "        self.b1 = torch.rand(self.n_h)\n",
        "        # Define 2nd weight matrix (using random initialization)\n",
        "        self.W2 = torch.rand(self.n_h,self.n_y)\n",
        "        # Define 2nd bias vector\n",
        "        self.b2 = torch.rand(self.n_y)\n",
        "               \n",
        "    def forward(self, X):\n",
        "        #hidden layer\n",
        "        self.Z2 = torch.matmul(X,self.W1) + self.b1\n",
        "        self.a2 = self.sigmoid(self.Z2)\n",
        "        \n",
        "        #output layer\n",
        "        self.Z3 = torch.matmul(self.a2,self.W2) + self.b2\n",
        "        self.y_hat = self.sigmoid(self.Z3)\n",
        "\n",
        "        return self.y_hat\n",
        "\n",
        "    def sigmoid(self,x):\n",
        "        #sigmoid function\n",
        "        return 1/(1+torch.exp(-x))\n",
        "\n",
        "    def sigmoid_derivative(self,x):\n",
        "        #sigmoid derivative\n",
        "        return self.sigmoid(x)*(1-self.sigmoid(x))\n",
        "\n",
        "    def cross_entropy_loss(self,y,y_hat):\n",
        "        m = y.shape[0]\n",
        "        cost = (1/m) * (-torch.sum(torch.mul(torch.log(y_hat), y) + torch.mul(torch.log(1- y_hat),(1 - y))))\n",
        "        return cost\n",
        "\n",
        "\n",
        "    def backward(self, X, y):\n",
        "        y = y.reshape(self.y_hat.shape)\n",
        "        m = y.shape[0]\n",
        "        delta3 = (1/m)*(self.y_hat-y)\n",
        "        dJdW2 = torch.matmul(self.a2.t(),delta3)\n",
        "        dJdb2 = torch.sum(delta3,axis = 0)\n",
        "        delta2 = torch.matmul(delta3,self.W2.t())*self.sigmoid_derivative(self.Z2)\n",
        "        dJdW1 = torch.matmul(X.t(),delta2)\n",
        "        dJdb1 = torch.sum(delta2,axis = 0)\n",
        "\n",
        "        return dJdW1, dJdW2, dJdb1, dJdb2\n",
        "\n",
        "    def predict(self, X):\n",
        "        #hidden layer\n",
        "        Z2 = torch.matmul(X,self.W1) + self.b1\n",
        "        a2 = self.sigmoid(Z2)\n",
        "        \n",
        "        #output layer\n",
        "        Z3 = torch.matmul(a2,self.W2) + self.b2\n",
        "        y_hat = self.sigmoid(Z3)\n",
        "\n",
        "        return y_hat\n",
        "\n",
        "    def train(self, X_train, y_train, X_valid, y_valid, epochs, learning_rate):\n",
        "        J = []\n",
        "        J_test = []\n",
        "        it = []\n",
        "        i= 0\n",
        "        for e in range(epochs):    \n",
        "            self.forward(X_train)\n",
        "            training_loss = self.cross_entropy_loss(y_train,self.y_hat)\n",
        "            \n",
        "            it.append(i)\n",
        "            i += 1\n",
        "            J.append(training_loss)\n",
        "\n",
        "            dW1, dW2, db1, db2 = self.backward(X_train,y_train)\n",
        "            self.W1 -= learning_rate*dW1 # update of the 1st weight matrix\n",
        "            self.b1 -= learning_rate*db1 # update of the 1st bias vector\n",
        "            self.W2 -= learning_rate*dW2 # update of the 2nd weight matrix\n",
        "            self.b2 -= learning_rate*db2 # update of the 2nd bias vector\n",
        "\n",
        "            p_hat = self.predict(X_valid)\n",
        "            test_loss = self.cross_entropy_loss(y_valid,p_hat)\n",
        "            J_test.append(test_loss)\n",
        "        plt.plot(it,J)\n",
        "        plt.plot(it,J_test)\n",
        "        return p_hat"
      ],
      "execution_count": null,
      "outputs": []
    },
    {
      "cell_type": "code",
      "metadata": {
        "id": "QTTlXueUEEcI"
      },
      "source": [
        "X_train_torch = torch.from_numpy(X_train).float()\r\n",
        "y_train_torch = torch.from_numpy(y_train).float()\r\n",
        "X_valid_torch = torch.from_numpy(X_test).float()\r\n",
        "y_valid_torch = torch.from_numpy(y_test).float()"
      ],
      "execution_count": null,
      "outputs": []
    },
    {
      "cell_type": "code",
      "metadata": {
        "colab": {
          "base_uri": "https://localhost:8080/"
        },
        "id": "oPosZiucAT1U",
        "outputId": "aefefb31-c6a5-470e-81cc-9c31b7a3a50a"
      },
      "source": [
        "print(X_train_torch.shape)\r\n",
        "print(X_valid_torch.shape)"
      ],
      "execution_count": null,
      "outputs": [
        {
          "output_type": "stream",
          "text": [
            "torch.Size([400, 2])\n",
            "torch.Size([100, 2])\n"
          ],
          "name": "stdout"
        }
      ]
    },
    {
      "cell_type": "code",
      "metadata": {
        "colab": {
          "base_uri": "https://localhost:8080/"
        },
        "id": "JHD59OKbQZ7O",
        "outputId": "9ec18459-f9b8-4826-a4df-63cda499fcbc"
      },
      "source": [
        "X_train_torch[0]"
      ],
      "execution_count": null,
      "outputs": [
        {
          "output_type": "execute_result",
          "data": {
            "text/plain": [
              "tensor([ 0.5235, -0.7171])"
            ]
          },
          "metadata": {
            "tags": []
          },
          "execution_count": 137
        }
      ]
    },
    {
      "cell_type": "code",
      "metadata": {
        "colab": {
          "base_uri": "https://localhost:8080/"
        },
        "id": "YFHkdrsbEHMn",
        "outputId": "032f60dc-c4c8-47e4-e1ed-181a96e65646"
      },
      "source": [
        "nn = NeuralNetwork(2,4,1)\r\n",
        "nn.forward(X_train_torch)\r\n",
        "print(nn.cross_entropy_loss(y_train_torch,nn.y_hat))"
      ],
      "execution_count": null,
      "outputs": [
        {
          "output_type": "stream",
          "text": [
            "tensor(404.9033)\n"
          ],
          "name": "stdout"
        }
      ]
    },
    {
      "cell_type": "markdown",
      "metadata": {
        "id": "vQQW-LNHllo1"
      },
      "source": [
        "**QUESTION.** Train your neural network, modify your code to save the training and validation error along the gradient descent iterations and plot them. You should also print the train and validation errors during training."
      ]
    },
    {
      "cell_type": "code",
      "metadata": {
        "ExecuteTime": {
          "end_time": "2021-02-19T09:25:41.861250Z",
          "start_time": "2021-02-19T09:25:41.678Z"
        },
        "id": "m2v0qC0Xllo3",
        "colab": {
          "base_uri": "https://localhost:8080/",
          "height": 265
        },
        "outputId": "d4e8053b-3469-42f0-93d6-edbb6d4f6f5e"
      },
      "source": [
        "nn = NeuralNetwork(2, 128, 1)\n",
        "\n",
        "p_hat = nn.train(\n",
        "    X_train_torch,\n",
        "    y_train_torch,\n",
        "    X_valid_torch,\n",
        "    y_valid_torch,\n",
        "    epochs=2500,\n",
        "    learning_rate=0.1\n",
        ")"
      ],
      "execution_count": null,
      "outputs": [
        {
          "output_type": "display_data",
          "data": {
            "image/png": "[encoded data removed]",
            "text/plain": [
              "<Figure size 432x288 with 1 Axes>"
            ]
          },
          "metadata": {
            "tags": [],
            "needs_background": "light"
          }
        }
      ]
    },
    {
      "cell_type": "code",
      "metadata": {
        "id": "EVISEFaloOCB"
      },
      "source": [
        "p_hat = p_hat.squeeze()"
      ],
      "execution_count": null,
      "outputs": []
    },
    {
      "cell_type": "code",
      "metadata": {
        "colab": {
          "base_uri": "https://localhost:8080/"
        },
        "id": "tImcqrXyoaZY",
        "outputId": "bf126dba-44f1-453e-8164-c9528e260960"
      },
      "source": [
        "p_hat"
      ],
      "execution_count": null,
      "outputs": [
        {
          "output_type": "execute_result",
          "data": {
            "text/plain": [
              "tensor([0.4157, 0.2010, 0.3708, 0.3307, 0.2478, 0.1122, 0.4839, 0.5969, 0.9188,\n",
              "        0.5809, 0.5009, 0.8264, 0.8711, 0.4285, 0.9291, 0.2826, 0.9398, 0.1984,\n",
              "        0.9870, 0.0513, 0.0530, 0.7841, 0.0549, 0.2012, 0.1297, 0.0502, 0.6360,\n",
              "        0.7052, 0.9469, 0.9612, 0.9914, 0.1992, 0.1885, 0.0866, 0.3855, 0.2906,\n",
              "        0.6177, 0.6999, 0.1389, 0.1443, 0.8865, 0.2642, 0.9073, 0.0886, 0.8238,\n",
              "        0.9280, 0.7159, 0.0629, 0.9985, 0.1847, 0.9517, 0.1010, 0.9227, 0.8141,\n",
              "        0.2229, 0.5662, 0.4904, 0.4025, 0.3220, 0.0640, 0.6239, 0.8191, 0.9953,\n",
              "        0.8629, 0.1726, 0.0569, 0.0626, 0.4847, 0.4011, 0.5261, 0.1782, 0.1287,\n",
              "        0.3342, 0.9582, 0.1453, 0.2287, 0.6342, 0.3242, 0.0570, 0.6846, 0.3649,\n",
              "        0.7869, 0.6616, 0.9079, 0.0787, 0.3943, 0.8078, 0.7065, 0.9006, 0.7845,\n",
              "        0.0697, 0.8712, 0.8474, 0.2154, 0.2133, 0.6334, 0.9217, 0.3781, 0.2384,\n",
              "        0.0987])"
            ]
          },
          "metadata": {
            "tags": []
          },
          "execution_count": 141
        }
      ]
    },
    {
      "cell_type": "code",
      "metadata": {
        "id": "AqLnG6YSiiYb",
        "colab": {
          "base_uri": "https://localhost:8080/"
        },
        "outputId": "622999ec-4c9d-4b7d-93d8-96824985089f"
      },
      "source": [
        "output = torch.zeros(100)\r\n",
        "for i in range(100) :\r\n",
        "    if p_hat[i] <= 0.5 :\r\n",
        "        output[i] = 0\r\n",
        "    else :\r\n",
        "        output[i] = 1\r\n",
        "print(p_hat)\r\n",
        "print(output)"
      ],
      "execution_count": null,
      "outputs": [
        {
          "output_type": "stream",
          "text": [
            "tensor([0.4157, 0.2010, 0.3708, 0.3307, 0.2478, 0.1122, 0.4839, 0.5969, 0.9188,\n",
            "        0.5809, 0.5009, 0.8264, 0.8711, 0.4285, 0.9291, 0.2826, 0.9398, 0.1984,\n",
            "        0.9870, 0.0513, 0.0530, 0.7841, 0.0549, 0.2012, 0.1297, 0.0502, 0.6360,\n",
            "        0.7052, 0.9469, 0.9612, 0.9914, 0.1992, 0.1885, 0.0866, 0.3855, 0.2906,\n",
            "        0.6177, 0.6999, 0.1389, 0.1443, 0.8865, 0.2642, 0.9073, 0.0886, 0.8238,\n",
            "        0.9280, 0.7159, 0.0629, 0.9985, 0.1847, 0.9517, 0.1010, 0.9227, 0.8141,\n",
            "        0.2229, 0.5662, 0.4904, 0.4025, 0.3220, 0.0640, 0.6239, 0.8191, 0.9953,\n",
            "        0.8629, 0.1726, 0.0569, 0.0626, 0.4847, 0.4011, 0.5261, 0.1782, 0.1287,\n",
            "        0.3342, 0.9582, 0.1453, 0.2287, 0.6342, 0.3242, 0.0570, 0.6846, 0.3649,\n",
            "        0.7869, 0.6616, 0.9079, 0.0787, 0.3943, 0.8078, 0.7065, 0.9006, 0.7845,\n",
            "        0.0697, 0.8712, 0.8474, 0.2154, 0.2133, 0.6334, 0.9217, 0.3781, 0.2384,\n",
            "        0.0987])\n",
            "tensor([0., 0., 0., 0., 0., 0., 0., 1., 1., 1., 1., 1., 1., 0., 1., 0., 1., 0.,\n",
            "        1., 0., 0., 1., 0., 0., 0., 0., 1., 1., 1., 1., 1., 0., 0., 0., 0., 0.,\n",
            "        1., 1., 0., 0., 1., 0., 1., 0., 1., 1., 1., 0., 1., 0., 1., 0., 1., 1.,\n",
            "        0., 1., 0., 0., 0., 0., 1., 1., 1., 1., 0., 0., 0., 0., 0., 1., 0., 0.,\n",
            "        0., 1., 0., 0., 1., 0., 0., 1., 0., 1., 1., 1., 0., 0., 1., 1., 1., 1.,\n",
            "        0., 1., 1., 0., 0., 1., 1., 0., 0., 0.])\n"
          ],
          "name": "stdout"
        }
      ]
    },
    {
      "cell_type": "code",
      "metadata": {
        "colab": {
          "base_uri": "https://localhost:8080/"
        },
        "id": "lEOxTIhOpNMY",
        "outputId": "89668c76-9f96-4509-d392-cb52cd4ec02f"
      },
      "source": [
        "y_valid_torch"
      ],
      "execution_count": null,
      "outputs": [
        {
          "output_type": "execute_result",
          "data": {
            "text/plain": [
              "tensor([0., 0., 0., 0., 0., 0., 1., 1., 1., 1., 1., 1., 1., 0., 1., 0., 1., 0.,\n",
              "        1., 0., 0., 1., 0., 0., 0., 0., 1., 1., 1., 1., 1., 0., 0., 0., 0., 0.,\n",
              "        1., 1., 0., 0., 1., 0., 1., 0., 1., 1., 1., 0., 1., 0., 1., 0., 1., 1.,\n",
              "        0., 1., 1., 0., 0., 0., 1., 1., 1., 1., 0., 0., 0., 1., 0., 1., 0., 0.,\n",
              "        0., 1., 0., 0., 1., 0., 0., 1., 0., 1., 1., 1., 0., 1., 1., 1., 1., 1.,\n",
              "        0., 1., 1., 0., 0., 1., 1., 1., 0., 0.])"
            ]
          },
          "metadata": {
            "tags": []
          },
          "execution_count": 143
        }
      ]
    },
    {
      "cell_type": "markdown",
      "metadata": {
        "id": "xwAP7aRwllo3"
      },
      "source": [
        "## Assessment of your model\n",
        "\n",
        "**QUESTION.** Use and modify the plotting functions from this notebook and the ones from `tutorial01` in order to plot the data together with the **predicted probabilities** of your neural network for inputs in a grid covering the input features space (as we did in `tutorial01`). Also, display on the plot the AUC-ROC metric obtained by your neural net."
      ]
    },
    {
      "cell_type": "code",
      "metadata": {
        "colab": {
          "base_uri": "https://localhost:8080/",
          "height": 252
        },
        "id": "oBB91P9qpbpa",
        "outputId": "b163e2bb-64ea-490b-830d-9be9e99dd5c9"
      },
      "source": [
        "plot_data(X_test, y_test, alpha=0.3, label=\"Valid\")\r\n"
      ],
      "execution_count": null,
      "outputs": [
        {
          "output_type": "display_data",
          "data": {
            "image/png": "[encoded data removed]",
            "text/plain": [
              "<Figure size 432x288 with 1 Axes>"
            ]
          },
          "metadata": {
            "tags": []
          }
        }
      ]
    },
    {
      "cell_type": "code",
      "metadata": {
        "id": "IRfKgiWTsU3Y",
        "colab": {
          "base_uri": "https://localhost:8080/",
          "height": 252
        },
        "outputId": "603b197e-b8a8-4caf-c5a9-fb5550108fb5"
      },
      "source": [
        "plot_data(X_test, output, alpha=1, label=\"Valid\")\r\n"
      ],
      "execution_count": null,
      "outputs": [
        {
          "output_type": "display_data",
          "data": {
            "image/png": "[encoded data removed]",
            "text/plain": [
              "<Figure size 432x288 with 1 Axes>"
            ]
          },
          "metadata": {
            "tags": []
          }
        }
      ]
    }
  ]
}